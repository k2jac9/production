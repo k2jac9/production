{
 "cells": [
  {
   "cell_type": "code",
   "execution_count": 2,
   "metadata": {},
   "outputs": [
    {
     "name": "stdout",
     "output_type": "stream",
     "text": [
      "../../05_src/data/tickers/sp500_wiki.csv\n"
     ]
    }
   ],
   "source": [
    "print(os.getenv(\"TICKERS\"))\n"
   ]
  },
  {
   "cell_type": "code",
   "execution_count": 1,
   "metadata": {},
   "outputs": [
    {
     "name": "stderr",
     "output_type": "stream",
     "text": [
      "2025-01-30 18:03:40,798 - INFO - Starting stock data pipeline...\n",
      "2025-01-30 18:03:42,049 - ERROR - Failed to get ticker '../../05_SRC/DATA/TICKERS/SP500_WIKI.CSV' reason: Expecting value: line 1 column 1 (char 0)\n",
      "2025-01-30 18:03:42,052 - ERROR - $../../05_SRC/DATA/TICKERS/SP500_WIKI.CSV: possibly delisted; no timezone found\n",
      "2025-01-30 18:03:42,053 - WARNING - No data for ../../05_src/data/tickers/sp500_wiki.csv\n",
      "2025-01-30 18:03:42,054 - WARNING - No valid stock data to save.\n",
      "2025-01-30 18:03:42,054 - INFO - Pipeline execution completed.\n"
     ]
    }
   ],
   "source": [
    "import os\n",
    "import logging\n",
    "import yfinance as yf\n",
    "import dask.dataframe as dd\n",
    "import pandas as pd\n",
    "from dotenv import load_dotenv\n",
    "from concurrent.futures import ThreadPoolExecutor\n",
    "\n",
    "# Load environment variables\n",
    "load_dotenv()\n",
    "TICKERS = os.getenv(\"TICKERS\", \"AAPL,MSFT,GOOGL\").split(\",\")\n",
    "DATA_DIR = os.getenv(\"DATA_DIR\", \"data\")\n",
    "PARQUET_PATH = os.path.join(DATA_DIR, \"stock_data.parquet\")\n",
    "\n",
    "# Ensure the data directory exists\n",
    "os.makedirs(DATA_DIR, exist_ok=True)\n",
    "\n",
    "# Configure logging\n",
    "logging.basicConfig(level=logging.INFO, format='%(asctime)s - %(levelname)s - %(message)s')\n",
    "logger = logging.getLogger(__name__)\n",
    "\n",
    "def fetch_stock_data(ticker):\n",
    "    \"\"\"Fetch historical stock data for a given ticker using Yahoo Finance.\"\"\"\n",
    "    try:\n",
    "        stock = yf.Ticker(ticker)\n",
    "        df = stock.history(start=\"2013-12-01\", end=\"2024-02-01\")\n",
    "        if df.empty:\n",
    "            logger.warning(f\"No data for {ticker}\")\n",
    "            return None\n",
    "        df[\"ticker\"] = ticker  # Add ticker column for multi-stock processing\n",
    "        return df\n",
    "    except Exception as e:\n",
    "        logger.error(f\"Error fetching data for {ticker}: {e}\")\n",
    "        return None\n",
    "\n",
    "def fetch_all_stocks(tickers):\n",
    "    \"\"\"Fetch data for all tickers in parallel using ThreadPoolExecutor.\"\"\"\n",
    "    with ThreadPoolExecutor(max_workers=10) as executor:\n",
    "        results = list(executor.map(fetch_stock_data, tickers))\n",
    "    return [df for df in results if df is not None]\n",
    "\n",
    "def save_to_parquet(dataframes, path):\n",
    "    \"\"\"Save stock data to a Parquet file using Dask for efficiency.\"\"\"\n",
    "    if not dataframes:\n",
    "        logger.warning(\"No valid stock data to save.\")\n",
    "        return\n",
    "    \n",
    "    df = pd.concat(dataframes, axis=0)\n",
    "    ddf = dd.from_pandas(df, npartitions=4)\n",
    "    ddf.to_parquet(path, engine=\"pyarrow\", write_index=False)\n",
    "    logger.info(f\"Data saved to {path}\")\n",
    "\n",
    "def main():\n",
    "    \"\"\"Main function to execute the pipeline.\"\"\"\n",
    "    logger.info(\"Starting stock data pipeline...\")\n",
    "    stock_data = fetch_all_stocks(TICKERS)\n",
    "    save_to_parquet(stock_data, PARQUET_PATH)\n",
    "    logger.info(\"Pipeline execution completed.\")\n",
    "\n",
    "if __name__ == \"__main__\":\n",
    "    main()\n"
   ]
  }
 ],
 "metadata": {
  "kernelspec": {
   "display_name": "Python 3",
   "language": "python",
   "name": "python3"
  },
  "language_info": {
   "codemirror_mode": {
    "name": "ipython",
    "version": 3
   },
   "file_extension": ".py",
   "mimetype": "text/x-python",
   "name": "python",
   "nbconvert_exporter": "python",
   "pygments_lexer": "ipython3",
   "version": "3.13.1"
  }
 },
 "nbformat": 4,
 "nbformat_minor": 2
}
