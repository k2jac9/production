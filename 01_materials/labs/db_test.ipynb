{
 "cells": [
  {
   "cell_type": "code",
   "execution_count": null,
   "metadata": {},
   "outputs": [],
   "source": [
    "import psycopg2\n",
    "import os\n",
    "from dotenv import load_dotenv\n",
    "load_dotenv()\n",
    "\n",
    "db_url = os.getenv('DB_URL')\n",
    "\n",
    "# Parse the connection string manually\n",
    "conn = psycopg2.connect(db_url)\n",
    "cursor = conn.cursor()\n",
    "\n",
    "# Create a test table\n",
    "cursor.execute(\"CREATE TABLE IF NOT EXISTS test_table (id SERIAL PRIMARY KEY, name VARCHAR(100));\")\n",
    "cursor.execute(\"INSERT INTO test_table (name) VALUES ('Test Entry');\")\n",
    "\n",
    "conn.commit()\n",
    "\n",
    "# Verify the insertion\n",
    "cursor.execute(\"SELECT * FROM test_table;\")\n",
    "print(cursor.fetchall())\n",
    "\n",
    "cursor.close()\n",
    "conn.close()\n"
   ]
  }
 ],
 "metadata": {
  "kernelspec": {
   "display_name": "dsi_participant",
   "language": "python",
   "name": "python3"
  },
  "language_info": {
   "codemirror_mode": {
    "name": "ipython",
    "version": 3
   },
   "file_extension": ".py",
   "mimetype": "text/x-python",
   "name": "python",
   "nbconvert_exporter": "python",
   "pygments_lexer": "ipython3",
   "version": "3.9.15"
  }
 },
 "nbformat": 4,
 "nbformat_minor": 2
}
