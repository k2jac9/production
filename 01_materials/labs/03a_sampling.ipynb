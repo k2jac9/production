{
 "cells": [
  {
   "cell_type": "code",
   "execution_count": 1,
   "metadata": {},
   "outputs": [],
   "source": [
    "%load_ext dotenv\n",
    "%dotenv \n",
    "import os\n",
    "import sys\n",
    "sys.path.append(os.getenv('SRC_DIR'))\n",
    "from logger import get_logger\n",
    "_logs = get_logger(__name__)\n"
   ]
  },
  {
   "cell_type": "code",
   "execution_count": 2,
   "metadata": {},
   "outputs": [],
   "source": [
    "import dask.dataframe as dd\n",
    "import pandas as pd\n",
    "import numpy as np\n",
    "import os\n",
    "from glob import glob\n"
   ]
  },
  {
   "cell_type": "code",
   "execution_count": 3,
   "metadata": {},
   "outputs": [],
   "source": [
    "ft_dir = os.getenv(\"FEATURES_DATA\")\n",
    "ft_glob = glob(ft_dir+'/*.parquet')\n",
    "df = dd.read_parquet(ft_glob).compute().reset_index()\n"
   ]
  },
  {
   "cell_type": "markdown",
   "metadata": {},
   "source": [
    "# Sampling in Python"
   ]
  },
  {
   "cell_type": "markdown",
   "metadata": {},
   "source": [
    "+ There are different packages that allow sampling.\n",
    "+ A practical approach is to use pandas/Dask sampling methods."
   ]
  },
  {
   "cell_type": "markdown",
   "metadata": {},
   "source": [
    "## Random Sampling\n",
    "\n",
    "+ Sample n rows from a dataframe with [`df.sample()`](https://pandas.pydata.org/docs/reference/api/pandas.DataFrame.sample.html).\n",
    "\n",
    "```\n",
    "DataFrame.sample(\n",
    "    n=None, frac=None, replace=False, weights=None, \n",
    "    random_state=None, axis=None, ignore_index=False\n",
    "    )\n",
    "```"
   ]
  },
  {
   "cell_type": "code",
   "execution_count": 4,
   "metadata": {},
   "outputs": [
    {
     "data": {
      "text/html": [
       "<div>\n",
       "<style scoped>\n",
       "    .dataframe tbody tr th:only-of-type {\n",
       "        vertical-align: middle;\n",
       "    }\n",
       "\n",
       "    .dataframe tbody tr th {\n",
       "        vertical-align: top;\n",
       "    }\n",
       "\n",
       "    .dataframe thead th {\n",
       "        text-align: right;\n",
       "    }\n",
       "</style>\n",
       "<table border=\"1\" class=\"dataframe\">\n",
       "  <thead>\n",
       "    <tr style=\"text-align: right;\">\n",
       "      <th>Price</th>\n",
       "      <th>Ticker</th>\n",
       "      <th>Date</th>\n",
       "      <th>Adj Close</th>\n",
       "      <th>Close</th>\n",
       "      <th>High</th>\n",
       "      <th>Low</th>\n",
       "      <th>Open</th>\n",
       "      <th>Volume</th>\n",
       "      <th>Year</th>\n",
       "      <th>Close_lag_1</th>\n",
       "    </tr>\n",
       "  </thead>\n",
       "  <tbody>\n",
       "    <tr>\n",
       "      <th>2698322</th>\n",
       "      <td>SO</td>\n",
       "      <td>2004-05-06</td>\n",
       "      <td>NaN</td>\n",
       "      <td>11.485729</td>\n",
       "      <td>11.521461</td>\n",
       "      <td>11.307071</td>\n",
       "      <td>11.386475</td>\n",
       "      <td>2272700.0</td>\n",
       "      <td>2004</td>\n",
       "      <td>11.410297</td>\n",
       "    </tr>\n",
       "    <tr>\n",
       "      <th>2701456</th>\n",
       "      <td>ENPH</td>\n",
       "      <td>2024-10-15</td>\n",
       "      <td>NaN</td>\n",
       "      <td>92.040001</td>\n",
       "      <td>99.500000</td>\n",
       "      <td>90.919998</td>\n",
       "      <td>98.889999</td>\n",
       "      <td>7599800.0</td>\n",
       "      <td>2024</td>\n",
       "      <td>101.470001</td>\n",
       "    </tr>\n",
       "    <tr>\n",
       "      <th>635342</th>\n",
       "      <td>PFG</td>\n",
       "      <td>2021-07-29</td>\n",
       "      <td>NaN</td>\n",
       "      <td>55.581173</td>\n",
       "      <td>56.226335</td>\n",
       "      <td>55.165793</td>\n",
       "      <td>56.093769</td>\n",
       "      <td>1184200.0</td>\n",
       "      <td>2021</td>\n",
       "      <td>55.209988</td>\n",
       "    </tr>\n",
       "    <tr>\n",
       "      <th>462541</th>\n",
       "      <td>GPN</td>\n",
       "      <td>2011-11-17</td>\n",
       "      <td>NaN</td>\n",
       "      <td>21.111233</td>\n",
       "      <td>21.503599</td>\n",
       "      <td>21.005965</td>\n",
       "      <td>21.302632</td>\n",
       "      <td>1089600.0</td>\n",
       "      <td>2011</td>\n",
       "      <td>21.340900</td>\n",
       "    </tr>\n",
       "    <tr>\n",
       "      <th>872072</th>\n",
       "      <td>PLD</td>\n",
       "      <td>2013-09-09</td>\n",
       "      <td>NaN</td>\n",
       "      <td>26.827974</td>\n",
       "      <td>26.827974</td>\n",
       "      <td>25.857342</td>\n",
       "      <td>26.114275</td>\n",
       "      <td>2693000.0</td>\n",
       "      <td>2013</td>\n",
       "      <td>26.085726</td>\n",
       "    </tr>\n",
       "  </tbody>\n",
       "</table>\n",
       "</div>"
      ],
      "text/plain": [
       "Price   Ticker       Date  Adj Close      Close       High        Low  \\\n",
       "2698322     SO 2004-05-06        NaN  11.485729  11.521461  11.307071   \n",
       "2701456   ENPH 2024-10-15        NaN  92.040001  99.500000  90.919998   \n",
       "635342     PFG 2021-07-29        NaN  55.581173  56.226335  55.165793   \n",
       "462541     GPN 2011-11-17        NaN  21.111233  21.503599  21.005965   \n",
       "872072     PLD 2013-09-09        NaN  26.827974  26.827974  25.857342   \n",
       "\n",
       "Price         Open     Volume  Year  Close_lag_1  \n",
       "2698322  11.386475  2272700.0  2004    11.410297  \n",
       "2701456  98.889999  7599800.0  2024   101.470001  \n",
       "635342   56.093769  1184200.0  2021    55.209988  \n",
       "462541   21.302632  1089600.0  2011    21.340900  \n",
       "872072   26.114275  2693000.0  2013    26.085726  "
      ]
     },
     "execution_count": 4,
     "metadata": {},
     "output_type": "execute_result"
    }
   ],
   "source": [
    "df.sample(n = 5)\n"
   ]
  },
  {
   "cell_type": "code",
   "execution_count": 5,
   "metadata": {},
   "outputs": [
    {
     "data": {
      "text/plain": [
       "['OXY', 'TXN', 'PCG', 'CBRE', 'ROK', 'AMT', 'D', 'YUM', 'PWR']"
      ]
     },
     "execution_count": 5,
     "metadata": {},
     "output_type": "execute_result"
    }
   ],
   "source": [
    "# select_tickers = df['ticker'].unique().tolist()[0:9]\n",
    "select_tickers = ['OXY', 'TXN', 'PCG', 'CBRE', 'ROK', 'AMT', 'D', 'YUM', 'PWR']\n",
    "select_tickers\n"
   ]
  },
  {
   "cell_type": "code",
   "execution_count": 6,
   "metadata": {},
   "outputs": [
    {
     "data": {
      "text/plain": [
       "((5678, 10), (56781, 10))"
      ]
     },
     "execution_count": 6,
     "metadata": {},
     "output_type": "execute_result"
    }
   ],
   "source": [
    "idx = df['Ticker'].isin(select_tickers)\n",
    "small_df = df[idx]\n",
    "simple_sample_dt = small_df.sample(frac = 0.1)\n",
    "simple_sample_dt.shape, small_df.shape\n"
   ]
  },
  {
   "cell_type": "markdown",
   "metadata": {},
   "source": [
    "Look at the distribution of tickers."
   ]
  },
  {
   "cell_type": "code",
   "execution_count": 7,
   "metadata": {},
   "outputs": [
    {
     "data": {
      "text/plain": [
       "<Axes: xlabel='Ticker'>"
      ]
     },
     "execution_count": 7,
     "metadata": {},
     "output_type": "execute_result"
    },
    {
     "data": {
      "image/png": "[encoded data removed]",
      "text/plain": [
       "<Figure size 640x480 with 1 Axes>"
      ]
     },
     "metadata": {},
     "output_type": "display_data"
    }
   ],
   "source": [
    "small_df['Ticker'].value_counts().plot(kind='bar')\n"
   ]
  },
  {
   "cell_type": "code",
   "execution_count": 8,
   "metadata": {},
   "outputs": [
    {
     "data": {
      "text/plain": [
       "<Axes: xlabel='Ticker'>"
      ]
     },
     "execution_count": 8,
     "metadata": {},
     "output_type": "execute_result"
    },
    {
     "data": {
      "image/png": "[encoded data removed]",
      "text/plain": [
       "<Figure size 640x480 with 1 Axes>"
      ]
     },
     "metadata": {},
     "output_type": "display_data"
    }
   ],
   "source": [
    "simple_sample_dt['Ticker'].value_counts().plot(kind='bar')\n"
   ]
  },
  {
   "cell_type": "markdown",
   "metadata": {},
   "source": [
    "## Stratified Sampling\n",
    "\n",
    "+ Use `groupby()` and `.sample()` for stratified sampling."
   ]
  },
  {
   "cell_type": "code",
   "execution_count": 9,
   "metadata": {},
   "outputs": [
    {
     "data": {
      "text/plain": [
       "<Axes: xlabel='Ticker'>"
      ]
     },
     "execution_count": 9,
     "metadata": {},
     "output_type": "execute_result"
    },
    {
     "data": {
      "image/png": "[encoded data removed]",
      "text/plain": [
       "<Figure size 640x480 with 1 Axes>"
      ]
     },
     "metadata": {},
     "output_type": "display_data"
    }
   ],
   "source": [
    "strat_sample_dt = small_df.groupby(['Ticker']).sample(frac = 0.1)\n",
    "strat_sample_dt['Ticker'].value_counts().plot(kind='bar')\n"
   ]
  },
  {
   "cell_type": "markdown",
   "metadata": {},
   "source": [
    "# Sampling in Dask\n",
    "\n",
    "+ Stratified sampling in `dask` can be achieved with `groupby().apply()` and a lambda function."
   ]
  },
  {
   "cell_type": "code",
   "execution_count": 10,
   "metadata": {},
   "outputs": [
    {
     "name": "stderr",
     "output_type": "stream",
     "text": [
      "C:\\Users\\AC\\AppData\\Local\\Temp\\ipykernel_6584\\2388710987.py:4: UserWarning: `meta` is not specified, inferred from partial data. Please provide `meta` if the result is unexpected.\n",
      "  Before: .apply(func)\n",
      "  After:  .apply(func, meta={'x': 'f8', 'y': 'f8'}) for dataframe result\n",
      "  or:     .apply(func, meta=('x', 'f8'))            for series result\n",
      "  .apply(lambda x: x.sample(frac = 0.1))\n"
     ]
    },
    {
     "data": {
      "text/plain": [
       "<Axes: xlabel='Ticker'>"
      ]
     },
     "execution_count": 10,
     "metadata": {},
     "output_type": "execute_result"
    },
    {
     "data": {
      "image/png": "[encoded data removed]",
      "text/plain": [
       "<Figure size 640x480 with 1 Axes>"
      ]
     },
     "metadata": {},
     "output_type": "display_data"
    }
   ],
   "source": [
    "dd_dt = dd.read_parquet(ft_glob)\n",
    "strat_sample_dd_dt = (dd_dt\n",
    "                      .groupby('Ticker', group_keys=False)\n",
    "                      .apply(lambda x: x.sample(frac = 0.1))\n",
    "                      .compute()\n",
    "                      .reset_index())\n",
    "strat_sample_dd_dt[strat_sample_dd_dt['Ticker'].isin(select_tickers)]['Ticker'].value_counts().plot(kind='bar')\n"
   ]
  }
 ],
 "metadata": {
  "kernelspec": {
   "display_name": "Python 3",
   "language": "python",
   "name": "python3"
  },
  "language_info": {
   "codemirror_mode": {
    "name": "ipython",
    "version": 3
   },
   "file_extension": ".py",
   "mimetype": "text/x-python",
   "name": "python",
   "nbconvert_exporter": "python",
   "pygments_lexer": "ipython3",
   "version": "3.13.1"
  }
 },
 "nbformat": 4,
 "nbformat_minor": 2
}
