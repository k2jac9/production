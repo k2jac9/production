{
 "cells": [
  {
   "cell_type": "markdown",
   "metadata": {},
   "source": [
    "# Working with parquet files\n",
    "\n",
    "## Objective\n",
    "\n",
    "+ In this assignment, we will use the data downloaded with the module `data_manager` to create features.\n",
    "\n",
    "(11 pts total)\n",
    "\n",
    "## Prerequisites\n",
    "\n",
    "+ This notebook assumes that price data is available to you in the environment variable `PRICE_DATA`. If you have not done so, then execute the notebook `01_materials/labs/2_data_engineering.ipynb` to create this data set.\n"
   ]
  },
  {
   "cell_type": "markdown",
   "metadata": {},
   "source": [
    "+ Load the environment variables using dotenv. (1 pt)"
   ]
  },
  {
   "cell_type": "markdown",
   "metadata": {},
   "source": [
    "+ Load the environment variable `PRICE_DATA`.\n",
    "+ Use [glob](https://docs.python.org/3/library/glob.html) to find the path of all parquet files in the directory `PRICE_DATA`.\n",
    "\n",
    "(1pt)"
   ]
  },
  {
   "cell_type": "code",
   "execution_count": 1,
   "metadata": {},
   "outputs": [],
   "source": [
    "import os\n",
    "from glob import glob\n",
    "\n",
    "# Load environment variables\n",
    "from dotenv import load_dotenv\n",
    "load_dotenv()\n",
    "\n",
    "# Retrieve the PRICE_DATA environment variable\n",
    "price_data_path = os.getenv(\"PRICE_DATA\")\n",
    "\n",
    "# Use glob to get all parquet files in the PRICE_DATA directory\n",
    "parquet_files = glob(os.path.join(price_data_path, \"**/*.parquet\"), recursive=True)\n"
   ]
  },
  {
   "cell_type": "markdown",
   "metadata": {},
   "source": [
    "For each ticker and using Dask, do the following:\n",
    "\n",
    "+ Add lags for variables Close and Adj_Close.\n",
    "+ Add returns based on Close:\n",
    "    \n",
    "    - `returns`: (Close / Close_lag_1) - 1\n",
    "\n",
    "+ Add the following range: \n",
    "\n",
    "    - `hi_lo_range`: this is the day's High minus Low.\n",
    "\n",
    "+ Assign the result to `dd_feat`.\n",
    "\n",
    "(4 pt)"
   ]
  },
  {
   "cell_type": "markdown",
   "metadata": {},
   "source": [
    "Let's first create a progress bar decorator"
   ]
  },
  {
   "cell_type": "code",
   "execution_count": 2,
   "metadata": {},
   "outputs": [],
   "source": [
    "from dask.diagnostics import ProgressBar\n",
    "from functools import wraps\n",
    "\n",
    "def dask_progress_bar(func):\n",
    "    @wraps(func)\n",
    "    def wrapper(*args, **kwargs):\n",
    "        with ProgressBar():\n",
    "            return func(*args, **kwargs)\n",
    "    return wrapper\n"
   ]
  },
  {
   "cell_type": "code",
   "execution_count": 3,
   "metadata": {},
   "outputs": [
    {
     "name": "stderr",
     "output_type": "stream",
     "text": [
      "C:\\Users\\AC\\AppData\\Local\\Temp\\ipykernel_12096\\1423507564.py:7: UserWarning: `meta` is not specified, inferred from partial data. Please provide `meta` if the result is unexpected.\n",
      "  Before: .apply(func)\n",
      "  After:  .apply(func, meta={'x': 'f8', 'y': 'f8'}) for dataframe result\n",
      "  or:     .apply(func, meta=('x', 'f8'))            for series result\n",
      "  dd_px['Close_lag_1'] = dd_px.groupby('Ticker')['Close'].shift(1)\n",
      "C:\\Users\\AC\\AppData\\Local\\Temp\\ipykernel_12096\\1423507564.py:8: UserWarning: `meta` is not specified, inferred from partial data. Please provide `meta` if the result is unexpected.\n",
      "  Before: .apply(func)\n",
      "  After:  .apply(func, meta={'x': 'f8', 'y': 'f8'}) for dataframe result\n",
      "  or:     .apply(func, meta=('x', 'f8'))            for series result\n",
      "  dd_px['Adj_Close_lag_1'] = dd_px.groupby('Ticker')['Adj Close'].shift(1)\n"
     ]
    }
   ],
   "source": [
    "import dask.dataframe as dd\n",
    "\n",
    "# Load parquet files into Dask dataframe\n",
    "dd_px = dd.read_parquet(parquet_files).reset_index()\n",
    "\n",
    "# Add lags for Close and Adj Close\n",
    "dd_px['Close_lag_1'] = dd_px.groupby('Ticker')['Close'].shift(1)\n",
    "dd_px['Adj_Close_lag_1'] = dd_px.groupby('Ticker')['Adj Close'].shift(1)\n",
    "\n",
    "# Calculate returns based on 'Close'\n",
    "dd_px['returns'] = (dd_px['Close'] / dd_px['Close_lag_1']) - 1\n",
    "\n",
    "# Add the high-low range for the day\n",
    "dd_px['hi_lo_range'] = dd_px['High'] - dd_px['Low']\n",
    "\n",
    "dd_feat = dd_px\n",
    "\n"
   ]
  },
  {
   "cell_type": "markdown",
   "metadata": {},
   "source": [
    "+ Convert the Dask data frame to a pandas data frame. \n",
    "+ Add a new feature containing the moving average of `returns` using a window of 10 days. There are several ways to solve this task, a simple one uses `.rolling(10).mean()`.\n",
    "\n",
    "(3 pt)"
   ]
  },
  {
   "cell_type": "code",
   "execution_count": 4,
   "metadata": {},
   "outputs": [
    {
     "name": "stdout",
     "output_type": "stream",
     "text": [
      "[########################################] | 100% Completed | 85m 58s\n"
     ]
    }
   ],
   "source": [
    "# Apply the progress bar decorator to the compute function\n",
    "@dask_progress_bar\n",
    "def compute_dd_feat(dd_feat):\n",
    "    return dd_feat.compute()\n",
    "\n",
    "# Convert the Dask DataFrame to a Pandas DataFrame with the progress bar\n",
    "dd_feat_pd = compute_dd_feat(dd_feat)\n",
    "\n",
    "# Now calculate the moving average on the Pandas DataFrame\n",
    "dd_feat_pd['moving_avg_10'] = dd_feat_pd['returns'].rolling(10).mean()\n"
   ]
  },
  {
   "cell_type": "markdown",
   "metadata": {},
   "source": [
    "Please comment:\n",
    "\n",
    "+ Was it necessary to convert to pandas to calculate the moving average return?\n",
    "\n",
    "No, it wasn't necessary to convert to pandas to calculate the moving average return. You can calculate the moving average directly in Dask using rolling(window).mean() without converting the DataFrame to pandas. Dask supports similar functionality for large datasets and can perform computations in parallel, making it more suitable for larger datasets that might not fit in memory when converted to pandas."
   ]
  },
  {
   "cell_type": "markdown",
   "metadata": {},
   "source": [
    "+ Would it have been better to do it in Dask? Why?\n",
    "\n",
    "Yes, it would have been better to do it in Dask. Dask is optimized for handling large datasets by partitioning them and processing in parallel. It allows for out-of-core computations, meaning it doesn't need the entire dataset in memory. So if you were working with a very large dataset, Dask would be better equipped to handle this efficiently compared to pandas, which requires the full dataset to fit into memory.\n",
    "\n",
    "(1 pt)"
   ]
  },
  {
   "cell_type": "code",
   "execution_count": 7,
   "metadata": {},
   "outputs": [],
   "source": [
    "dd_feat['Moving_Avg_Return'] = dd_feat['returns'].rolling(10, min_periods=1).mean()\n"
   ]
  },
  {
   "cell_type": "code",
   "execution_count": 8,
   "metadata": {},
   "outputs": [],
   "source": [
    "# Simulate Dask DataFrame\n",
    "dd_feat = dd.from_pandas(dd_feat_pd, npartitions=12)\n",
    "\n",
    "# Apply the progress bar decorator to the rolling average function\n",
    "@dask_progress_bar\n",
    "def calculate_rolling_average(df, window=10):\n",
    "    df['moving_avg_10'] = df['returns'].rolling(window, min_periods=1).mean()\n",
    "    return df\n",
    "\n",
    "# Apply the function across all partitions using map_partitions\n",
    "dd_feat_rolling = dd_feat.map_partitions(calculate_rolling_average)\n",
    "\n",
    "# Trigger the computation (this will show the progress bar)\n",
    "dd_feat_rolling = dd_feat_rolling.compute()\n",
    "\n",
    "# Now dd_feat_rolling contains the result with the moving average of returns\n"
   ]
  },
  {
   "cell_type": "code",
   "execution_count": 9,
   "metadata": {},
   "outputs": [
    {
     "data": {
      "text/plain": [
       "(Price Ticker       Date  Adj Close      Close       High        Low  \\\n",
       " 0         DD 2004-01-02        NaN  31.454390  31.928538  31.377914   \n",
       " 0         DD 2003-01-02        NaN  22.360483  22.448574  21.663094   \n",
       " 0        AEE 2006-01-03        NaN  23.784660  23.830523  23.495722   \n",
       " 0        DFS 2006-01-03        NaN        NaN        NaN        NaN   \n",
       " 0        DFS 2003-01-02        NaN        NaN        NaN        NaN   \n",
       " \n",
       " Price       Open     Volume  Year  Close_lag_1  Adj_Close_lag_1    returns  \\\n",
       " 0      31.790880  1581218.0  2004    44.836933              NaN   0.362712   \n",
       " 0      21.986095  1636022.0  2003    15.702373              NaN   3.882691   \n",
       " 0      23.711279   900500.0  2006     9.216395              NaN  -0.181300   \n",
       " 0            NaN        NaN  2006    15.481647              NaN  22.015234   \n",
       " 0            NaN        NaN  2003    41.166416              NaN   3.577728   \n",
       " \n",
       " Price  hi_lo_range  moving_avg_10  \n",
       " 0         1.850461       0.362712  \n",
       " 0         1.269878       2.122702  \n",
       " 0         0.244190       1.354701  \n",
       " 0         7.123330       6.519834  \n",
       " 0         3.316325       5.931413  ,\n",
       " Price Ticker       Date  Adj Close      Close       High        Low  \\\n",
       " 252     PEAK 2008-12-31        NaN        NaN        NaN        NaN   \n",
       " 252     PANW 2008-12-31        NaN        NaN        NaN        NaN   \n",
       " 252      PNW 2008-12-31        NaN  16.231836  16.307614  16.125745   \n",
       " 252     NTAP 2020-12-31        NaN  59.625694  59.760718  58.518518   \n",
       " 252     NTAP 2008-12-31        NaN  10.520772  10.716577  10.136692   \n",
       " \n",
       " Price       Open     Volume  Year  Close_lag_1  Adj_Close_lag_1   returns  \\\n",
       " 252          NaN        NaN  2008   192.767319              NaN       NaN   \n",
       " 252          NaN        NaN  2008    80.360130              NaN  1.548053   \n",
       " 252    16.186369   839200.0  2008    65.960388              NaN -0.803712   \n",
       " 252    58.752551  1032700.0  2020    59.995350              NaN -0.006161   \n",
       " 252    10.204471  6482100.0  2008   131.146240              NaN -0.919778   \n",
       " \n",
       " Price  hi_lo_range  moving_avg_10  \n",
       " 252            NaN       2.968839  \n",
       " 252       5.204587       1.317974  \n",
       " 252       0.428837       1.052764  \n",
       " 252       1.242200       1.153365  \n",
       " 252       0.579885       1.067043  )"
      ]
     },
     "execution_count": 9,
     "metadata": {},
     "output_type": "execute_result"
    }
   ],
   "source": [
    "# Show the head and tail of the Dask DataFrame after the computation\n",
    "dd_feat_rolling_head_tail = dd_feat_rolling.head(5), dd_feat_rolling.tail(5)\n",
    "dd_feat_rolling_head_tail\n"
   ]
  },
  {
   "cell_type": "markdown",
   "metadata": {},
   "source": [
    "## Criteria\n",
    "\n",
    "The [rubric](./assignment_1_rubric_clean.xlsx) contains the criteria for grading."
   ]
  },
  {
   "cell_type": "markdown",
   "metadata": {},
   "source": [
    "## Submission Information\n",
    "\n",
    "🚨 **Please review our [Assignment Submission Guide](https://github.com/UofT-DSI/onboarding/blob/main/onboarding_documents/submissions.md)** 🚨 for detailed instructions on how to format, branch, and submit your work. Following these guidelines is crucial for your submissions to be evaluated correctly.\n",
    "\n",
    "### Submission Parameters:\n",
    "* Submission Due Date: `HH:MM AM/PM - DD/MM/YYYY`\n",
    "* The branch name for your repo should be: `assignment-1`\n",
    "* What to submit for this assignment:\n",
    "    * This Jupyter Notebook (assignment_1.ipynb) should be populated and should be the only change in your pull request.\n",
    "* What the pull request link should look like for this assignment: `https://github.com/<your_github_username>/production/pull/<pr_id>`\n",
    "    * Open a private window in your browser. Copy and paste the link to your pull request into the address bar. Make sure you can see your pull request properly. This helps the technical facilitator and learning support staff review your submission easily.\n",
    "\n",
    "Checklist:\n",
    "- [ ] Created a branch with the correct naming convention.\n",
    "- [ ] Ensured that the repository is public.\n",
    "- [ ] Reviewed the PR description guidelines and adhered to them.\n",
    "- [ ] Verify that the link is accessible in a private browser window.\n",
    "\n",
    "If you encounter any difficulties or have questions, please don't hesitate to reach out to our team via our Slack at `#cohort-3-help`. Our Technical Facilitators and Learning Support staff are here to help you navigate any challenges."
   ]
  }
 ],
 "metadata": {
  "kernelspec": {
   "display_name": "Python 3",
   "language": "python",
   "name": "python3"
  },
  "language_info": {
   "codemirror_mode": {
    "name": "ipython",
    "version": 3
   },
   "file_extension": ".py",
   "mimetype": "text/x-python",
   "name": "python",
   "nbconvert_exporter": "python",
   "pygments_lexer": "ipython3",
   "version": "3.13.1"
  }
 },
 "nbformat": 4,
 "nbformat_minor": 2
}
